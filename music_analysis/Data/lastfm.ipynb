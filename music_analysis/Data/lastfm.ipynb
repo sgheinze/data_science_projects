{
 "cells": [
  {
   "cell_type": "code",
   "execution_count": 1,
   "metadata": {},
   "outputs": [],
   "source": [
    "import matplotlib.pyplot as plt\n",
    "from scipy.stats import linregress\n",
    "import pandas as pd\n",
    "import numpy as np\n",
    "import pylast\n",
    "import spotipy\n",
    "import seaborn as sns\n",
    "from __future__ import division\n",
    "from ast import literal_eval\n",
    "from collections import Counter\n",
    "from spotipy.oauth2 import SpotifyClientCredentials\n",
    "\n",
    "%matplotlib inline"
   ]
  },
  {
   "cell_type": "markdown",
   "metadata": {},
   "source": [
    "#  Authentication"
   ]
  },
  {
   "cell_type": "code",
   "execution_count": 2,
   "metadata": {},
   "outputs": [],
   "source": [
    "API_KEY = \"8a564e0a10ada2dae369a5b6ee8ea87d\"\n",
    "API_SECRET = \"d3a685cfca018de96861622c8e3bfdd8\"\n",
    "network = pylast.LastFMNetwork(api_key=API_KEY, api_secret=API_SECRET)"
   ]
  },
  {
   "cell_type": "code",
   "execution_count": null,
   "metadata": {},
   "outputs": [],
   "source": [
    "client_credentials_manager = (SpotifyClientCredentials(client_id='944c05ffa8d2479aa6bc25e0b522b8db', \n",
    "                                                       client_secret='55848e78225c4b8798d306fc17324719'))\n",
    "sp = spotipy.Spotify(client_credentials_manager=client_credentials_manager)     "
   ]
  },
  {
   "cell_type": "markdown",
   "metadata": {},
   "source": [
    "#  Genre data"
   ]
  },
  {
   "cell_type": "code",
   "execution_count": 145,
   "metadata": {},
   "outputs": [],
   "source": [
    "stefan_top_tracks = pd.read_csv('stefan_top_songs.csv', index_col = 0)\n",
    "\n",
    "stefan_top50_tracks = []\n",
    "for track in stefan_top_tracks['track_uri']:\n",
    "    results = sp.track(track)\n",
    "    track_name = results['name']\n",
    "    artist_name = results['artists'][0]['name']\n",
    "    stefan_top50_tracks.append([track_name, artist_name])\n",
    "\n",
    "stefan_top50_tags = []\n",
    "for track in stefan_top50_tracks:\n",
    "    try:\n",
    "        tag = network.get_artist(track[1]).get_top_tags()\n",
    "        stefan_top50_tags.append(tag[0].item.get_name())\n",
    "    except:\n",
    "        print('The artist \"' + str(track[1]) + '\" could not be found.')"
   ]
  },
  {
   "cell_type": "code",
   "execution_count": 150,
   "metadata": {
    "collapsed": true
   },
   "outputs": [
    {
     "name": "stdout",
     "output_type": "stream",
     "text": [
      "The artist \"Alina Baraz\" could not be found.\n",
      "The artist \"Alina Baraz\" could not be found.\n",
      "The artist \"Alina Baraz\" could not be found.\n",
      "The artist \"Alina Baraz\" could not be found.\n",
      "The artist \"Alina Baraz\" could not be found.\n",
      "The artist \"Alina Baraz\" could not be found.\n",
      "The artist \"Alina Baraz\" could not be found.\n",
      "The artist \"Alina Baraz\" could not be found.\n",
      "The artist \"Alina Baraz\" could not be found.\n",
      "The artist \"Alina Baraz\" could not be found.\n",
      "The artist \"Alina Baraz\" could not be found.\n",
      "The artist \"Alina Baraz\" could not be found.\n",
      "The artist \"Alina Baraz\" could not be found.\n",
      "The artist \"Alina Baraz\" could not be found.\n",
      "The artist \"Alina Baraz\" could not be found.\n",
      "The artist \"Alina Baraz\" could not be found.\n",
      "The artist \"Alina Baraz\" could not be found.\n",
      "The artist \"Alina Baraz\" could not be found.\n",
      "The artist \"Alina Baraz\" could not be found.\n",
      "The artist \"Alina Baraz\" could not be found.\n",
      "The artist \"Alina Baraz\" could not be found.\n",
      "The artist \"Alina Baraz\" could not be found.\n",
      "The artist \"Alina Baraz\" could not be found.\n",
      "The artist \"Alina Baraz\" could not be found.\n",
      "The artist \"Alina Baraz\" could not be found.\n",
      "The artist \"Alina Baraz\" could not be found.\n",
      "The artist \"Alina Baraz\" could not be found.\n",
      "The artist \"Alina Baraz\" could not be found.\n",
      "The artist \"Alina Baraz\" could not be found.\n",
      "The artist \"Alina Baraz\" could not be found.\n",
      "The artist \"Alina Baraz\" could not be found.\n"
     ]
    }
   ],
   "source": [
    "stefan_tracks = pd.read_csv('stefan_music.csv', index_col = 0)\n",
    "\n",
    "stefan_all_tags = []\n",
    "for index in range(len(stefan_tracks)):\n",
    "    artist = literal_eval(stefan_tracks.loc[index, 'artists'])[0]\n",
    "    try:\n",
    "        tag = network.get_artist(artist).get_top_tags()\n",
    "        stefan_all_tags.append(tag[0].item.get_name())\n",
    "    except:\n",
    "        print('The artist \"' + str(artist) + '\" could not be found.')\n",
    "\n",
    "kelsey_tracks = pd.read_csv('kelsey_music.csv', index_col = 0)\n",
    "\n",
    "kelsey_all_tags = []\n",
    "for index in range(len(kelsey_tracks)):\n",
    "    artist = literal_eval(kelsey_tracks.loc[index, 'artists'])[0]\n",
    "    try:\n",
    "        tag = network.get_artist(artist).get_top_tags()\n",
    "        kelsey_all_tags.append(tag[0].item.get_name())\n",
    "    except:\n",
    "        print('The artist \"' + str(artist) + '\" could not be found.')"
   ]
  },
  {
   "cell_type": "code",
   "execution_count": 228,
   "metadata": {},
   "outputs": [],
   "source": [
    "stefan_top_tags = []\n",
    "temp = Counter(stefan_all_tags)\n",
    "for item in temp.most_common(10):\n",
    "    tag_data = {}\n",
    "    tag = item[0]\n",
    "    pct = item[1] / sum(temp.values())\n",
    "    tag_data['Genre'] = tag.capitalize()\n",
    "    tag_data['% of Songs'] = pct\n",
    "    stefan_top_tags.append(tag_data)\n",
    "    \n",
    "kelsey_top_tags = []\n",
    "temp = Counter(kelsey_all_tags)\n",
    "for item in temp.most_common(10):\n",
    "    tag_data = {}\n",
    "    tag = item[0]\n",
    "    pct = item[1] / sum(temp.values())\n",
    "    tag_data['Genre'] = tag.capitalize()\n",
    "    tag_data['% of Songs'] = pct\n",
    "    kelsey_top_tags.append(tag_data)"
   ]
  },
  {
   "cell_type": "code",
   "execution_count": 229,
   "metadata": {},
   "outputs": [
    {
     "data": {
      "image/png": "[encoded data removed]",
      "text/plain": [
       "<matplotlib.figure.Figure at 0x1097e4b38>"
      ]
     },
     "metadata": {},
     "output_type": "display_data"
    }
   ],
   "source": [
    "stefan_top_tags_df = pd.DataFrame(stefan_top_tags)\n",
    "kelsey_top_tags_df = pd.DataFrame(kelsey_top_tags)\n",
    "\n",
    "fig = plt.figure(figsize=(14,5))\n",
    "ax1 = fig.add_subplot(121)\n",
    "ax1 = sns.barplot(x='Genre', y='% of Songs', data=stefan_top_tags_df, color=sns.color_palette()[0])\n",
    "ax1.set_ylabel('% of Songs')\n",
    "ax1.set_xlabel('Genre')\n",
    "ax1.set_ylim(0,0.3)\n",
    "ax1.annotate('Stefan', \n",
    "                    xy = (1,1),\n",
    "                    xytext=(0.98, 0.98),\n",
    "                    xycoords='axes fraction',\n",
    "                    textcoords='axes fraction',\n",
    "                    horizontalalignment='right',\n",
    "                    verticalalignment='top',\n",
    "                    fontsize='14')\n",
    "locs, labels = plt.xticks();\n",
    "plt.setp(labels, rotation=90);\n",
    "ax2 = fig.add_subplot(122)\n",
    "ax2 = sns.barplot(x='Genre', y='% of Songs', data=kelsey_top_tags_df, color=sns.color_palette()[1])\n",
    "ax2.set_ylabel('% of Songs')\n",
    "ax2.set_xlabel('Genre')\n",
    "ax2.set_ylim(0,0.3)\n",
    "ax2.annotate('Kelsey', \n",
    "                    xy = (1,1),\n",
    "                    xytext=(0.98, 0.98),\n",
    "                    xycoords='axes fraction',\n",
    "                    textcoords='axes fraction',\n",
    "                    horizontalalignment='right',\n",
    "                    verticalalignment='top',\n",
    "                    fontsize='14')\n",
    "locs, labels = plt.xticks();\n",
    "plt.setp(labels, rotation=90);\n",
    "\n",
    "plt.rcParams[\"axes.labelsize\"] = 14\n",
    "for ax in plt.gcf().axes:\n",
    "    ax.tick_params(labelsize=14)"
   ]
  },
  {
   "cell_type": "markdown",
   "metadata": {},
   "source": [
    "#  Popularity"
   ]
  },
  {
   "cell_type": "code",
   "execution_count": 247,
   "metadata": {},
   "outputs": [
    {
     "name": "stdout",
     "output_type": "stream",
     "text": [
      "Couldn't get LastFM popularity for Closer.\n",
      "Couldn't get LastFM popularity for Vanity Fair (feat. Melinda Ortner).\n",
      "Couldn't get LastFM popularity for goosebumps.\n",
      "Couldn't get LastFM popularity for Antidote.\n",
      "Couldn't get LastFM popularity for Are You Still Certain? (feat. Mashrou' Leila).\n"
     ]
    }
   ],
   "source": [
    "stefan_popularity = []\n",
    "for index in range(len(stefan_tracks)):\n",
    "    artist = literal_eval(stefan_tracks.loc[index, 'artists'])[0]\n",
    "    song_name = stefan_tracks.loc[index, 'name']\n",
    "    spotify_popularity = stefan_tracks.loc[index, 'popularity']\n",
    "    try: \n",
    "        lastfm_popularity = network.get_track(artist, song_name).get_playcount()\n",
    "        stefan_popularity.append([artist, song_name, spotify_popularity, lastfm_popularity])\n",
    "    except:\n",
    "        print(\"Couldn't get LastFM popularity for \" + str(song_name) + '.')"
   ]
  },
  {
   "cell_type": "code",
   "execution_count": 263,
   "metadata": {},
   "outputs": [
    {
     "name": "stdout",
     "output_type": "stream",
     "text": [
      "Couldn't get LastFM popularity for Kiss'n in the Dark.\n",
      "Couldn't get LastFM popularity for Sativa.\n",
      "Couldn't get LastFM popularity for While We're Young.\n",
      "Couldn't get LastFM popularity for Hello Ego.\n",
      "Couldn't get LastFM popularity for Moments.\n",
      "Couldn't get LastFM popularity for OLLA (Only Lovers Left Alive).\n"
     ]
    }
   ],
   "source": [
    "kelsey_popularity = []\n",
    "for index in range(len(kelsey_tracks)):\n",
    "    artist = literal_eval(kelsey_tracks.loc[index, 'artists'])[0]\n",
    "    song_name = kelsey_tracks.loc[index, 'name']\n",
    "    spotify_popularity = kelsey_tracks.loc[index, 'popularity']\n",
    "    try: \n",
    "        lastfm_popularity = network.get_track(artist, song_name).get_playcount()\n",
    "        kelsey_popularity.append([artist, song_name, spotify_popularity, lastfm_popularity])\n",
    "    except:\n",
    "        print(\"Couldn't get LastFM popularity for \" + str(song_name) + '.')"
   ]
  },
  {
   "cell_type": "code",
   "execution_count": 252,
   "metadata": {},
   "outputs": [],
   "source": [
    "popularity_comparison = []\n",
    "for item in stefan_popularity:\n",
    "    popularity_data = {}\n",
    "    popularity_data['spotify_popularity'] = item[2]\n",
    "    popularity_data['lastfm_popularity'] = item[3]\n",
    "    popularity_comparison.append(popularity_data)"
   ]
  },
  {
   "cell_type": "code",
   "execution_count": 278,
   "metadata": {},
   "outputs": [
    {
     "data": {
      "text/plain": [
       "(0, 5000000)"
      ]
     },
     "execution_count": 278,
     "metadata": {},
     "output_type": "execute_result"
    },
    {
     "data": {
      "image/png": "[encoded data removed]",
      "text/plain": [
       "<matplotlib.figure.Figure at 0x10e3c1198>"
      ]
     },
     "metadata": {},
     "output_type": "display_data"
    }
   ],
   "source": [
    "popularity_comparison_df = pd.DataFrame(popularity_comparison)\n",
    "\n",
    "ax = sns.regplot(x='spotify_popularity', y='lastfm_popularity', data=popularity_comparison_df, fit_reg=False)\n",
    "ax.set_ylim(0,5000000)"
   ]
  },
  {
   "cell_type": "code",
   "execution_count": 293,
   "metadata": {},
   "outputs": [
    {
     "name": "stdout",
     "output_type": "stream",
     "text": [
      "The mean popularity of Stefan's songs are: 784700.0\n",
      "The mean popularity of Kelsey's songs are: 1046000.0\n"
     ]
    }
   ],
   "source": [
    "count = 0\n",
    "for item in stefan_popularity:\n",
    "    count += item[3]\n",
    "print(\"The mean popularity of Stefan's songs are: %s\" % (str(round(count / len(stefan_popularity), -2))))\n",
    "\n",
    "count = 0\n",
    "for item in kelsey_popularity:\n",
    "    count += item[3]\n",
    "print(\"The mean popularity of Kelsey's songs are: %s\" % (str(round(count / len(kelsey_popularity), -2))))"
   ]
  },
  {
   "cell_type": "code",
   "execution_count": 322,
   "metadata": {},
   "outputs": [],
   "source": [
    "stefan_pop = []\n",
    "for item in stefan_popularity:\n",
    "    if item[3] < 5e6:\n",
    "        stefan_pop.append(item[3])\n",
    "        \n",
    "kelsey_pop = []\n",
    "for item in kelsey_popularity:\n",
    "    if item[3] < 5e6:\n",
    "        kelsey_pop.append(item[3])"
   ]
  },
  {
   "cell_type": "code",
   "execution_count": 339,
   "metadata": {},
   "outputs": [
    {
     "data": {
      "text/plain": [
       "0.3163884673748103"
      ]
     },
     "execution_count": 339,
     "metadata": {},
     "output_type": "execute_result"
    }
   ],
   "source": [
    "count = 0\n",
    "for item in stefan_pop:\n",
    "    if item <= 5e4:\n",
    "        count+=1\n",
    "\n",
    "count/len(stefan_pop)"
   ]
  },
  {
   "cell_type": "code",
   "execution_count": 341,
   "metadata": {},
   "outputs": [
    {
     "data": {
      "image/png": "[encoded data removed]",
      "text/plain": [
       "<matplotlib.figure.Figure at 0x110ec06a0>"
      ]
     },
     "metadata": {},
     "output_type": "display_data"
    }
   ],
   "source": [
    "fig, ax = plt.subplots(figsize=(6,4))\n",
    "sns.distplot(stefan_pop, bins=100, kde=False, rug=False, ax=ax, norm_hist=True, kde_kws={'clip': [0, 1.4e7]})\n",
    "sns.distplot(kelsey_pop, bins=100, kde=False, rug=False, ax=ax, norm_hist=True, kde_kws={'clip': [0, 1.4e7]})\n",
    "ax.set_xlim(0,2.5e6)\n",
    "plt.tick_params(axis='y', which='both', left='off')\n",
    "ax.yaxis.set_ticklabels([0, 0.05, 0.1, 0.15, 0.2, 0.25, 0.3])\n",
    "\n",
    "ax.set_xlabel('Number of Listens')\n",
    "ax.set_ylabel('Fraction of Songs in Playlist')\n",
    "\n",
    "for ax in plt.gcf().axes:\n",
    "    ax.tick_params(labelsize=14)"
   ]
  },
  {
   "cell_type": "markdown",
   "metadata": {},
   "source": [
    "# Top 50"
   ]
  },
  {
   "cell_type": "code",
   "execution_count": 3,
   "metadata": {},
   "outputs": [],
   "source": [
    "top50_df = pd.read_csv('top50.csv', index_col=0)"
   ]
  },
  {
   "cell_type": "code",
   "execution_count": 5,
   "metadata": {},
   "outputs": [],
   "source": [
    "top50_all_tags = []\n",
    "for index in range(len(top50_df)):\n",
    "    artist = literal_eval(top50_df.loc[index, 'artists'])[0]\n",
    "    try:\n",
    "        tag = network.get_artist(artist).get_top_tags()\n",
    "        top50_all_tags.append(tag[0].item.get_name())\n",
    "    except:\n",
    "        print('The artist \"' + str(artist) + '\" could not be found.')"
   ]
  },
  {
   "cell_type": "code",
   "execution_count": 22,
   "metadata": {},
   "outputs": [],
   "source": [
    "top50_df['lastfm_genre'] = top50_all_tags\n",
    "top50_df.to_csv('top50.csv')"
   ]
  },
  {
   "cell_type": "code",
   "execution_count": 10,
   "metadata": {},
   "outputs": [],
   "source": [
    "stefan_tracks = pd.read_csv('stefan_music.csv', index_col = 0)\n",
    "\n",
    "stefan_top_tags = []\n",
    "temp = Counter(stefan_tracks['lastfm_genre'])\n",
    "for item in temp.most_common(10):\n",
    "    tag_data = {}\n",
    "    tag = item[0]\n",
    "    pct = item[1] / sum(temp.values())\n",
    "    tag_data['Genre'] = tag.capitalize()\n",
    "    tag_data['% of Songs'] = pct\n",
    "    stefan_top_tags.append(tag_data)\n",
    "    \n",
    "top50_top_tags = []\n",
    "temp = Counter(top50_all_tags)\n",
    "for item in temp.most_common(10):\n",
    "    tag_data = {}\n",
    "    tag = item[0]\n",
    "    pct = item[1] / sum(temp.values())\n",
    "    tag_data['Genre'] = tag.capitalize()\n",
    "    tag_data['% of Songs'] = pct\n",
    "    top50_top_tags.append(tag_data)"
   ]
  },
  {
   "cell_type": "code",
   "execution_count": 19,
   "metadata": {},
   "outputs": [
    {
     "data": {
      "image/png": "[encoded data removed]",
      "text/plain": [
       "<matplotlib.figure.Figure at 0x10de9aba8>"
      ]
     },
     "metadata": {},
     "output_type": "display_data"
    }
   ],
   "source": [
    "stefan_top_tags_df = pd.DataFrame(stefan_top_tags)\n",
    "top50_top_tags_df = pd.DataFrame(top50_top_tags)\n",
    "\n",
    "sns.set()\n",
    "sns.set_palette(\"tab10\")\n",
    "fig = plt.figure(figsize=(14,5))\n",
    "ax1 = fig.add_subplot(121)\n",
    "ax1 = sns.barplot(x='Genre', y='% of Songs', data=stefan_top_tags_df, color=sns.color_palette()[0])\n",
    "ax1.set_ylabel('% of Songs', fontsize=14)\n",
    "ax1.set_xlabel('Genre', fontsize=14)\n",
    "ax1.set_ylim(0,1)\n",
    "ax1.annotate('Stefan', \n",
    "                    xy = (1,1),\n",
    "                    xytext=(0.98, 0.98),\n",
    "                    xycoords='axes fraction',\n",
    "                    textcoords='axes fraction',\n",
    "                    horizontalalignment='right',\n",
    "                    verticalalignment='top',\n",
    "                    fontsize='14')\n",
    "locs, labels = plt.xticks();\n",
    "plt.setp(labels, rotation=90);\n",
    "ax2 = fig.add_subplot(122)\n",
    "ax2 = sns.barplot(x='Genre', y='% of Songs', data=top50_top_tags_df, color=sns.color_palette()[1])\n",
    "ax2.set_ylabel('% of Songs', fontsize=14)\n",
    "ax2.set_xlabel('Genre', fontsize=14, labelpad=24)\n",
    "ax2.set_ylim(0,1)\n",
    "ax2.annotate('Top 50', \n",
    "                    xy = (1,1),\n",
    "                    xytext=(0.98, 0.98),\n",
    "                    xycoords='axes fraction',\n",
    "                    textcoords='axes fraction',\n",
    "                    horizontalalignment='right',\n",
    "                    verticalalignment='top',\n",
    "                    fontsize='14')\n",
    "locs, labels = plt.xticks();\n",
    "plt.setp(labels, rotation=90);\n",
    "\n",
    "plt.rcParams[\"axes.labelsize\"] = 14\n",
    "for ax in plt.gcf().axes:\n",
    "    ax.tick_params(labelsize=14)\n",
    "plt.savefig('svstop50_lastfm_genre.eps', dpi=200, format='eps')"
   ]
  },
  {
   "cell_type": "markdown",
   "metadata": {},
   "source": [
    "# Top 2017"
   ]
  },
  {
   "cell_type": "code",
   "execution_count": 23,
   "metadata": {},
   "outputs": [],
   "source": [
    "top2017_df = pd.read_csv('top2017.csv', index_col=0)"
   ]
  },
  {
   "cell_type": "code",
   "execution_count": 24,
   "metadata": {},
   "outputs": [],
   "source": [
    "top2017_all_tags = []\n",
    "for index in range(len(top2017_df)):\n",
    "    artist = literal_eval(top2017_df.loc[index, 'artists'])[0]\n",
    "    try:\n",
    "        tag = network.get_artist(artist).get_top_tags()\n",
    "        top2017_all_tags.append(tag[0].item.get_name())\n",
    "    except:\n",
    "        print('The artist \"' + str(artist) + '\" could not be found.')"
   ]
  },
  {
   "cell_type": "code",
   "execution_count": 25,
   "metadata": {},
   "outputs": [],
   "source": [
    "top2017_df['lastfm_genre'] = top2017_all_tags\n",
    "top2017_df.to_csv('top2017.csv')"
   ]
  },
  {
   "cell_type": "markdown",
   "metadata": {},
   "source": [
    "#  Test code"
   ]
  },
  {
   "cell_type": "code",
   "execution_count": null,
   "metadata": {},
   "outputs": [],
   "source": [
    "tags = network.get_artist('Mura Masa').get_top_tags()\n",
    "tracks = network.get_artist('Mura Masa').get_top_tracks(limit=5)\n",
    "tags[0].item.get_name(), tags[0].weight\n",
    "tracks[0].item.get_name()"
   ]
  },
  {
   "cell_type": "code",
   "execution_count": 342,
   "metadata": {},
   "outputs": [],
   "source": [
    "results = network.get_track('Mura Masa', 'Firefly')"
   ]
  },
  {
   "cell_type": "code",
   "execution_count": 346,
   "metadata": {},
   "outputs": [
    {
     "name": "stdout",
     "output_type": "stream",
     "text": [
      "Help on class Track in module pylast:\n",
      "\n",
      "class Track(_Opus)\n",
      " |  A Last.fm track.\n",
      " |  \n",
      " |  Method resolution order:\n",
      " |      Track\n",
      " |      _Opus\n",
      " |      _BaseObject\n",
      " |      _Taggable\n",
      " |      builtins.object\n",
      " |  \n",
      " |  Methods defined here:\n",
      " |  \n",
      " |  __hash__(self)\n",
      " |      Return hash(self).\n",
      " |  \n",
      " |  __init__(self, artist, title, network, username=None)\n",
      " |      Create an opus instance.\n",
      " |      # Parameters:\n",
      " |          * artist: An artist name or an Artist object.\n",
      " |          * title: The album or track title.\n",
      " |          * ws_prefix: 'album' or 'track'\n",
      " |  \n",
      " |  get_album(self)\n",
      " |      Returns the album object of this track.\n",
      " |  \n",
      " |  get_correction(self)\n",
      " |      Returns the corrected track name.\n",
      " |  \n",
      " |  get_duration(self)\n",
      " |      Returns the track duration.\n",
      " |  \n",
      " |  get_similar(self, limit=None)\n",
      " |      Returns similar tracks for this track on the network,\n",
      " |      based on listening data.\n",
      " |  \n",
      " |  get_url(self, domain_name=0)\n",
      " |      Returns the URL of the album or track page on the network.\n",
      " |      # Parameters:\n",
      " |      * domain_name str: The network's language domain. Possible values:\n",
      " |          o DOMAIN_ENGLISH\n",
      " |          o DOMAIN_GERMAN\n",
      " |          o DOMAIN_SPANISH\n",
      " |          o DOMAIN_FRENCH\n",
      " |          o DOMAIN_ITALIAN\n",
      " |          o DOMAIN_POLISH\n",
      " |          o DOMAIN_PORTUGUESE\n",
      " |          o DOMAIN_SWEDISH\n",
      " |          o DOMAIN_TURKISH\n",
      " |          o DOMAIN_RUSSIAN\n",
      " |          o DOMAIN_JAPANESE\n",
      " |          o DOMAIN_CHINESE\n",
      " |  \n",
      " |  get_userloved(self)\n",
      " |      Whether the user loved this track\n",
      " |  \n",
      " |  is_fulltrack_available(self)\n",
      " |      Returns True if the full track is available for streaming.\n",
      " |  \n",
      " |  is_streamable(self)\n",
      " |      Returns True if the track is available at Last.fm.\n",
      " |  \n",
      " |  love(self)\n",
      " |      Adds the track to the user's loved tracks.\n",
      " |  \n",
      " |  unlove(self)\n",
      " |      Remove the track to the user's loved tracks.\n",
      " |  \n",
      " |  ----------------------------------------------------------------------\n",
      " |  Methods inherited from _Opus:\n",
      " |  \n",
      " |  __eq__(self, other)\n",
      " |      Return self==value.\n",
      " |  \n",
      " |  __ne__(self, other)\n",
      " |      Return self!=value.\n",
      " |  \n",
      " |  __repr__(self)\n",
      " |      Return repr(self).\n",
      " |  \n",
      " |  __str__ = r(*args)\n",
      " |  \n",
      " |  get_artist(self)\n",
      " |      Returns the associated Artist object.\n",
      " |  \n",
      " |  get_listener_count(self)\n",
      " |      Returns the number of listeners on the network\n",
      " |  \n",
      " |  get_mbid(self)\n",
      " |      Returns the MusicBrainz ID of the album or track.\n",
      " |  \n",
      " |  get_name(self, properly_capitalized=False)\n",
      " |      Returns the album or track title (alias to get_title()).\n",
      " |  \n",
      " |  get_playcount(self)\n",
      " |      Returns the number of plays on the network\n",
      " |  \n",
      " |  get_title(self, properly_capitalized=False)\n",
      " |      Returns the artist or track title.\n",
      " |  \n",
      " |  get_userplaycount(self)\n",
      " |      Returns the number of plays by a given username\n",
      " |  \n",
      " |  ----------------------------------------------------------------------\n",
      " |  Data and other attributes inherited from _Opus:\n",
      " |  \n",
      " |  artist = None\n",
      " |  \n",
      " |  title = None\n",
      " |  \n",
      " |  username = None\n",
      " |  \n",
      " |  ----------------------------------------------------------------------\n",
      " |  Methods inherited from _BaseObject:\n",
      " |  \n",
      " |  get_wiki(self, section)\n",
      " |      Returns a section of the wiki.\n",
      " |      Only for Album/Track.\n",
      " |      section can be \"content\", \"summary\" or\n",
      " |          \"published\" (for published date)\n",
      " |  \n",
      " |  get_wiki_content(self)\n",
      " |      Returns the summary of the wiki.\n",
      " |      Only for Album/Track.\n",
      " |  \n",
      " |  get_wiki_published_date(self)\n",
      " |      Returns the summary of the wiki.\n",
      " |      Only for Album/Track.\n",
      " |  \n",
      " |  get_wiki_summary(self)\n",
      " |      Returns the summary of the wiki.\n",
      " |      Only for Album/Track.\n",
      " |  \n",
      " |  ----------------------------------------------------------------------\n",
      " |  Data descriptors inherited from _BaseObject:\n",
      " |  \n",
      " |  __dict__\n",
      " |      dictionary for instance variables (if defined)\n",
      " |  \n",
      " |  __weakref__\n",
      " |      list of weak references to the object (if defined)\n",
      " |  \n",
      " |  ----------------------------------------------------------------------\n",
      " |  Data and other attributes inherited from _BaseObject:\n",
      " |  \n",
      " |  network = None\n",
      " |  \n",
      " |  ----------------------------------------------------------------------\n",
      " |  Methods inherited from _Taggable:\n",
      " |  \n",
      " |  add_tag(self, tag)\n",
      " |      Adds one tag.\n",
      " |      * tag: a tag name or a Tag object.\n",
      " |  \n",
      " |  add_tags(self, tags)\n",
      " |      Adds one or several tags.\n",
      " |      * tags: A sequence of tag names or Tag objects.\n",
      " |  \n",
      " |  clear_tags(self)\n",
      " |      Clears all the user-set tags.\n",
      " |  \n",
      " |  get_tags(self)\n",
      " |      Returns a list of the tags set by the user to this object.\n",
      " |  \n",
      " |  get_top_tags(self, limit=None)\n",
      " |      Returns a list of the most frequently used Tags on this object.\n",
      " |  \n",
      " |  remove_tag(self, tag)\n",
      " |      Remove a user's tag from this object.\n",
      " |  \n",
      " |  remove_tags(self, tags)\n",
      " |      Removes one or several tags from this object.\n",
      " |      * tags: a sequence of tag names or Tag objects.\n",
      " |  \n",
      " |  set_tags(self, tags)\n",
      " |      Sets this object's tags to only those tags.\n",
      " |      * tags: a sequence of tag names or Tag objects.\n",
      "\n"
     ]
    }
   ],
   "source": [
    "help(pylast.Track)"
   ]
  },
  {
   "cell_type": "code",
   "execution_count": null,
   "metadata": {},
   "outputs": [],
   "source": []
  }
 ],
 "metadata": {
  "kernelspec": {
   "display_name": "Python 3",
   "language": "python",
   "name": "python3"
  },
  "language_info": {
   "codemirror_mode": {
    "name": "ipython",
    "version": 3
   },
   "file_extension": ".py",
   "mimetype": "text/x-python",
   "name": "python",
   "nbconvert_exporter": "python",
   "pygments_lexer": "ipython3",
   "version": "3.6.1"
  }
 },
 "nbformat": 4,
 "nbformat_minor": 2
}
